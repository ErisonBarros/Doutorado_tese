{
  "nbformat": 4,
  "nbformat_minor": 0,
  "metadata": {
    "colab": {
      "name": "Manipulação de Dados_valores.ipynb",
      "provenance": [],
      "authorship_tag": "ABX9TyMhHZ+nkisBIOtHHVGY+jnw",
      "include_colab_link": true
    },
    "kernelspec": {
      "name": "python3",
      "display_name": "Python 3"
    }
  },
  "cells": [
    {
      "cell_type": "markdown",
      "metadata": {
        "id": "view-in-github",
        "colab_type": "text"
      },
      "source": [
        "<a href=\"https://colab.research.google.com/github/ErisonBarros/Doutorado_tese/blob/master/Manipula%C3%A7%C3%A3o.ipynb\" target=\"_parent\"><img src=\"https://colab.research.google.com/assets/colab-badge.svg\" alt=\"Open In Colab\"/></a>"
      ]
    },
    {
      "cell_type": "code",
      "metadata": {
        "id": "j-FtdD2Ar_HS"
      },
      "source": [
        ""
      ],
      "execution_count": null,
      "outputs": []
    },
    {
      "cell_type": "markdown",
      "metadata": {
        "id": "Sgu8Y5Kjr7_u"
      },
      "source": [
        "**Importar Biblioteca**"
      ]
    },
    {
      "cell_type": "code",
      "metadata": {
        "id": "IZ9pd3Exl3ww"
      },
      "source": [
        "import pandas as pd\n",
        "uri=\"https://raw.githubusercontent.com/ErisonBarros/Doutorado_tese/master/Planilha_valores.csv\""
      ],
      "execution_count": 3,
      "outputs": []
    },
    {
      "cell_type": "code",
      "metadata": {
        "id": "vBMxMNYBmCx1"
      },
      "source": [
        "Valores=pd.read_csv(uri)"
      ],
      "execution_count": 4,
      "outputs": []
    },
    {
      "cell_type": "code",
      "metadata": {
        "id": "FmOzmuHUmYwb",
        "colab": {
          "base_uri": "https://localhost:8080/",
          "height": 402
        },
        "outputId": "853e3275-09ae-4a9c-ab08-dd173ac8dc05"
      },
      "source": [
        "Valores"
      ],
      "execution_count": 5,
      "outputs": [
        {
          "output_type": "execute_result",
          "data": {
            "text/html": [
              "<div>\n",
              "<style scoped>\n",
              "    .dataframe tbody tr th:only-of-type {\n",
              "        vertical-align: middle;\n",
              "    }\n",
              "\n",
              "    .dataframe tbody tr th {\n",
              "        vertical-align: top;\n",
              "    }\n",
              "\n",
              "    .dataframe thead th {\n",
              "        text-align: right;\n",
              "    }\n",
              "</style>\n",
              "<table border=\"1\" class=\"dataframe\">\n",
              "  <thead>\n",
              "    <tr style=\"text-align: right;\">\n",
              "      <th></th>\n",
              "      <th>Municipio</th>\n",
              "      <th>Pop_Urbana</th>\n",
              "      <th>Pop_Rural</th>\n",
              "      <th>Área_km2</th>\n",
              "      <th>Area</th>\n",
              "      <th>Tax_Urbanização</th>\n",
              "      <th>Dens_dem_hab_km2</th>\n",
              "      <th>Regiao</th>\n",
              "      <th>MRT</th>\n",
              "    </tr>\n",
              "  </thead>\n",
              "  <tbody>\n",
              "    <tr>\n",
              "      <th>0</th>\n",
              "      <td>Abreu e Lima</td>\n",
              "      <td>86625</td>\n",
              "      <td>7804</td>\n",
              "      <td>94429</td>\n",
              "      <td>128,5</td>\n",
              "      <td>91,74</td>\n",
              "      <td>724,90</td>\n",
              "      <td>METROPOLITANA</td>\n",
              "      <td>MRT I</td>\n",
              "    </tr>\n",
              "    <tr>\n",
              "      <th>1</th>\n",
              "      <td>C. de S.  Agostinho</td>\n",
              "      <td>167783</td>\n",
              "      <td>17242</td>\n",
              "      <td>185025</td>\n",
              "      <td>446,5</td>\n",
              "      <td>90,68</td>\n",
              "      <td>414,32</td>\n",
              "      <td>METROPOLITANA</td>\n",
              "      <td>MRT I</td>\n",
              "    </tr>\n",
              "    <tr>\n",
              "      <th>2</th>\n",
              "      <td>Camaragibe</td>\n",
              "      <td>144466</td>\n",
              "      <td>-</td>\n",
              "      <td>144466</td>\n",
              "      <td>48,1</td>\n",
              "      <td>100,00</td>\n",
              "      <td>2.821,93</td>\n",
              "      <td>METROPOLITANA</td>\n",
              "      <td>MRT I</td>\n",
              "    </tr>\n",
              "    <tr>\n",
              "      <th>3</th>\n",
              "      <td>Goiana</td>\n",
              "      <td>58025</td>\n",
              "      <td>17619</td>\n",
              "      <td>75644</td>\n",
              "      <td>492,1</td>\n",
              "      <td>76,71</td>\n",
              "      <td>150,72</td>\n",
              "      <td>METROPOLITANA</td>\n",
              "      <td>MRT I</td>\n",
              "    </tr>\n",
              "    <tr>\n",
              "      <th>4</th>\n",
              "      <td>Igarassu</td>\n",
              "      <td>93931</td>\n",
              "      <td>8090</td>\n",
              "      <td>102021</td>\n",
              "      <td>302,9</td>\n",
              "      <td>92,07</td>\n",
              "      <td>333,88</td>\n",
              "      <td>METROPOLITANA</td>\n",
              "      <td>MRT I</td>\n",
              "    </tr>\n",
              "    <tr>\n",
              "      <th>...</th>\n",
              "      <td>...</td>\n",
              "      <td>...</td>\n",
              "      <td>...</td>\n",
              "      <td>...</td>\n",
              "      <td>...</td>\n",
              "      <td>...</td>\n",
              "      <td>...</td>\n",
              "      <td>...</td>\n",
              "      <td>...</td>\n",
              "    </tr>\n",
              "    <tr>\n",
              "      <th>143</th>\n",
              "      <td>Solidão</td>\n",
              "      <td>1831</td>\n",
              "      <td>3913</td>\n",
              "      <td>5744</td>\n",
              "      <td>138,399</td>\n",
              "      <td>31,88</td>\n",
              "      <td>41,5</td>\n",
              "      <td>SERTÃO (MOXOTÓ E PAJEÚ)</td>\n",
              "      <td>MRT VIII</td>\n",
              "    </tr>\n",
              "    <tr>\n",
              "      <th>144</th>\n",
              "      <td>Tabira</td>\n",
              "      <td>19769</td>\n",
              "      <td>6658</td>\n",
              "      <td>26427</td>\n",
              "      <td>388,005</td>\n",
              "      <td>74,81</td>\n",
              "      <td>68,11</td>\n",
              "      <td>SERTÃO (MOXOTÓ E PAJEÚ)</td>\n",
              "      <td>MRT VIII</td>\n",
              "    </tr>\n",
              "    <tr>\n",
              "      <th>145</th>\n",
              "      <td>Tuparetama</td>\n",
              "      <td>6351</td>\n",
              "      <td>1574</td>\n",
              "      <td>7925</td>\n",
              "      <td>178,57</td>\n",
              "      <td>80,14</td>\n",
              "      <td>44,38</td>\n",
              "      <td>SERTÃO (MOXOTÓ E PAJEÚ)</td>\n",
              "      <td>MRT VIII</td>\n",
              "    </tr>\n",
              "    <tr>\n",
              "      <th>146</th>\n",
              "      <td>Triunfo</td>\n",
              "      <td>7944</td>\n",
              "      <td>7062</td>\n",
              "      <td>15006</td>\n",
              "      <td>191,518</td>\n",
              "      <td>52,94</td>\n",
              "      <td>79,48</td>\n",
              "      <td>TRIUNFO</td>\n",
              "      <td>MRT IX</td>\n",
              "    </tr>\n",
              "    <tr>\n",
              "      <th>147</th>\n",
              "      <td>Santa Cruz da Baixa Verde</td>\n",
              "      <td>5277</td>\n",
              "      <td>6491</td>\n",
              "      <td>11768</td>\n",
              "      <td>114,932</td>\n",
              "      <td>44,84</td>\n",
              "      <td>108,77</td>\n",
              "      <td>TRIUNFO</td>\n",
              "      <td>MRT IX</td>\n",
              "    </tr>\n",
              "  </tbody>\n",
              "</table>\n",
              "<p>148 rows × 9 columns</p>\n",
              "</div>"
            ],
            "text/plain": [
              "                      Municipio  Pop_Urbana  ...                    Regiao       MRT\n",
              "0                 Abreu e Lima        86625  ...             METROPOLITANA     MRT I\n",
              "1          C. de S.  Agostinho       167783  ...             METROPOLITANA     MRT I\n",
              "2                   Camaragibe       144466  ...             METROPOLITANA     MRT I\n",
              "3                       Goiana        58025  ...             METROPOLITANA     MRT I\n",
              "4                     Igarassu        93931  ...             METROPOLITANA     MRT I\n",
              "..                          ...         ...  ...                       ...       ...\n",
              "143                    Solidão         1831  ...  SERTÃO (MOXOTÓ E PAJEÚ)   MRT VIII\n",
              "144                     Tabira        19769  ...  SERTÃO (MOXOTÓ E PAJEÚ)   MRT VIII\n",
              "145                 Tuparetama         6351  ...  SERTÃO (MOXOTÓ E PAJEÚ)   MRT VIII\n",
              "146                    Triunfo         7944  ...                   TRIUNFO    MRT IX\n",
              "147  Santa Cruz da Baixa Verde         5277  ...                  TRIUNFO     MRT IX\n",
              "\n",
              "[148 rows x 9 columns]"
            ]
          },
          "metadata": {
            "tags": []
          },
          "execution_count": 5
        }
      ]
    },
    {
      "cell_type": "markdown",
      "metadata": {
        "id": "Pj2Nc-cir2xl"
      },
      "source": [
        "# Manipulação dos Dados"
      ]
    },
    {
      "cell_type": "code",
      "metadata": {
        "id": "PRsmEem6miNy",
        "colab": {
          "base_uri": "https://localhost:8080/",
          "height": 106
        },
        "outputId": "16868f9d-53c8-4b11-e137-128fbdf66622"
      },
      "source": [
        "Valores[:2]"
      ],
      "execution_count": 6,
      "outputs": [
        {
          "output_type": "execute_result",
          "data": {
            "text/html": [
              "<div>\n",
              "<style scoped>\n",
              "    .dataframe tbody tr th:only-of-type {\n",
              "        vertical-align: middle;\n",
              "    }\n",
              "\n",
              "    .dataframe tbody tr th {\n",
              "        vertical-align: top;\n",
              "    }\n",
              "\n",
              "    .dataframe thead th {\n",
              "        text-align: right;\n",
              "    }\n",
              "</style>\n",
              "<table border=\"1\" class=\"dataframe\">\n",
              "  <thead>\n",
              "    <tr style=\"text-align: right;\">\n",
              "      <th></th>\n",
              "      <th>Municipio</th>\n",
              "      <th>Pop_Urbana</th>\n",
              "      <th>Pop_Rural</th>\n",
              "      <th>Área_km2</th>\n",
              "      <th>Area</th>\n",
              "      <th>Tax_Urbanização</th>\n",
              "      <th>Dens_dem_hab_km2</th>\n",
              "      <th>Regiao</th>\n",
              "      <th>MRT</th>\n",
              "    </tr>\n",
              "  </thead>\n",
              "  <tbody>\n",
              "    <tr>\n",
              "      <th>0</th>\n",
              "      <td>Abreu e Lima</td>\n",
              "      <td>86625</td>\n",
              "      <td>7804</td>\n",
              "      <td>94429</td>\n",
              "      <td>128,5</td>\n",
              "      <td>91,74</td>\n",
              "      <td>724,90</td>\n",
              "      <td>METROPOLITANA</td>\n",
              "      <td>MRT I</td>\n",
              "    </tr>\n",
              "    <tr>\n",
              "      <th>1</th>\n",
              "      <td>C. de S.  Agostinho</td>\n",
              "      <td>167783</td>\n",
              "      <td>17242</td>\n",
              "      <td>185025</td>\n",
              "      <td>446,5</td>\n",
              "      <td>90,68</td>\n",
              "      <td>414,32</td>\n",
              "      <td>METROPOLITANA</td>\n",
              "      <td>MRT I</td>\n",
              "    </tr>\n",
              "  </tbody>\n",
              "</table>\n",
              "</div>"
            ],
            "text/plain": [
              "              Municipio  Pop_Urbana  ...         Regiao    MRT\n",
              "0         Abreu e Lima        86625  ...  METROPOLITANA  MRT I\n",
              "1  C. de S.  Agostinho       167783  ...  METROPOLITANA  MRT I\n",
              "\n",
              "[2 rows x 9 columns]"
            ]
          },
          "metadata": {
            "tags": []
          },
          "execution_count": 6
        }
      ]
    },
    {
      "cell_type": "code",
      "metadata": {
        "id": "l1U7spJhnArh",
        "colab": {
          "base_uri": "https://localhost:8080/",
          "height": 402
        },
        "outputId": "6525b5a5-71a1-4514-d819-09242934f66b"
      },
      "source": [
        "Valores[2:]"
      ],
      "execution_count": 7,
      "outputs": [
        {
          "output_type": "execute_result",
          "data": {
            "text/html": [
              "<div>\n",
              "<style scoped>\n",
              "    .dataframe tbody tr th:only-of-type {\n",
              "        vertical-align: middle;\n",
              "    }\n",
              "\n",
              "    .dataframe tbody tr th {\n",
              "        vertical-align: top;\n",
              "    }\n",
              "\n",
              "    .dataframe thead th {\n",
              "        text-align: right;\n",
              "    }\n",
              "</style>\n",
              "<table border=\"1\" class=\"dataframe\">\n",
              "  <thead>\n",
              "    <tr style=\"text-align: right;\">\n",
              "      <th></th>\n",
              "      <th>Municipio</th>\n",
              "      <th>Pop_Urbana</th>\n",
              "      <th>Pop_Rural</th>\n",
              "      <th>Área_km2</th>\n",
              "      <th>Area</th>\n",
              "      <th>Tax_Urbanização</th>\n",
              "      <th>Dens_dem_hab_km2</th>\n",
              "      <th>Regiao</th>\n",
              "      <th>MRT</th>\n",
              "    </tr>\n",
              "  </thead>\n",
              "  <tbody>\n",
              "    <tr>\n",
              "      <th>2</th>\n",
              "      <td>Camaragibe</td>\n",
              "      <td>144466</td>\n",
              "      <td>-</td>\n",
              "      <td>144466</td>\n",
              "      <td>48,1</td>\n",
              "      <td>100,00</td>\n",
              "      <td>2.821,93</td>\n",
              "      <td>METROPOLITANA</td>\n",
              "      <td>MRT I</td>\n",
              "    </tr>\n",
              "    <tr>\n",
              "      <th>3</th>\n",
              "      <td>Goiana</td>\n",
              "      <td>58025</td>\n",
              "      <td>17619</td>\n",
              "      <td>75644</td>\n",
              "      <td>492,1</td>\n",
              "      <td>76,71</td>\n",
              "      <td>150,72</td>\n",
              "      <td>METROPOLITANA</td>\n",
              "      <td>MRT I</td>\n",
              "    </tr>\n",
              "    <tr>\n",
              "      <th>4</th>\n",
              "      <td>Igarassu</td>\n",
              "      <td>93931</td>\n",
              "      <td>8090</td>\n",
              "      <td>102021</td>\n",
              "      <td>302,9</td>\n",
              "      <td>92,07</td>\n",
              "      <td>333,88</td>\n",
              "      <td>METROPOLITANA</td>\n",
              "      <td>MRT I</td>\n",
              "    </tr>\n",
              "    <tr>\n",
              "      <th>5</th>\n",
              "      <td>I. de Itamaracá</td>\n",
              "      <td>16993</td>\n",
              "      <td>4891</td>\n",
              "      <td>21884</td>\n",
              "      <td>65,1</td>\n",
              "      <td>77,65</td>\n",
              "      <td>328,18</td>\n",
              "      <td>METROPOLITANA</td>\n",
              "      <td>MRT I</td>\n",
              "    </tr>\n",
              "    <tr>\n",
              "      <th>6</th>\n",
              "      <td>Ipojuca</td>\n",
              "      <td>59719</td>\n",
              "      <td>20918</td>\n",
              "      <td>80637</td>\n",
              "      <td>512,6</td>\n",
              "      <td>74,06</td>\n",
              "      <td>151,39</td>\n",
              "      <td>METROPOLITANA</td>\n",
              "      <td>MRT I</td>\n",
              "    </tr>\n",
              "    <tr>\n",
              "      <th>...</th>\n",
              "      <td>...</td>\n",
              "      <td>...</td>\n",
              "      <td>...</td>\n",
              "      <td>...</td>\n",
              "      <td>...</td>\n",
              "      <td>...</td>\n",
              "      <td>...</td>\n",
              "      <td>...</td>\n",
              "      <td>...</td>\n",
              "    </tr>\n",
              "    <tr>\n",
              "      <th>143</th>\n",
              "      <td>Solidão</td>\n",
              "      <td>1831</td>\n",
              "      <td>3913</td>\n",
              "      <td>5744</td>\n",
              "      <td>138,399</td>\n",
              "      <td>31,88</td>\n",
              "      <td>41,5</td>\n",
              "      <td>SERTÃO (MOXOTÓ E PAJEÚ)</td>\n",
              "      <td>MRT VIII</td>\n",
              "    </tr>\n",
              "    <tr>\n",
              "      <th>144</th>\n",
              "      <td>Tabira</td>\n",
              "      <td>19769</td>\n",
              "      <td>6658</td>\n",
              "      <td>26427</td>\n",
              "      <td>388,005</td>\n",
              "      <td>74,81</td>\n",
              "      <td>68,11</td>\n",
              "      <td>SERTÃO (MOXOTÓ E PAJEÚ)</td>\n",
              "      <td>MRT VIII</td>\n",
              "    </tr>\n",
              "    <tr>\n",
              "      <th>145</th>\n",
              "      <td>Tuparetama</td>\n",
              "      <td>6351</td>\n",
              "      <td>1574</td>\n",
              "      <td>7925</td>\n",
              "      <td>178,57</td>\n",
              "      <td>80,14</td>\n",
              "      <td>44,38</td>\n",
              "      <td>SERTÃO (MOXOTÓ E PAJEÚ)</td>\n",
              "      <td>MRT VIII</td>\n",
              "    </tr>\n",
              "    <tr>\n",
              "      <th>146</th>\n",
              "      <td>Triunfo</td>\n",
              "      <td>7944</td>\n",
              "      <td>7062</td>\n",
              "      <td>15006</td>\n",
              "      <td>191,518</td>\n",
              "      <td>52,94</td>\n",
              "      <td>79,48</td>\n",
              "      <td>TRIUNFO</td>\n",
              "      <td>MRT IX</td>\n",
              "    </tr>\n",
              "    <tr>\n",
              "      <th>147</th>\n",
              "      <td>Santa Cruz da Baixa Verde</td>\n",
              "      <td>5277</td>\n",
              "      <td>6491</td>\n",
              "      <td>11768</td>\n",
              "      <td>114,932</td>\n",
              "      <td>44,84</td>\n",
              "      <td>108,77</td>\n",
              "      <td>TRIUNFO</td>\n",
              "      <td>MRT IX</td>\n",
              "    </tr>\n",
              "  </tbody>\n",
              "</table>\n",
              "<p>146 rows × 9 columns</p>\n",
              "</div>"
            ],
            "text/plain": [
              "                      Municipio  Pop_Urbana  ...                    Regiao       MRT\n",
              "2                   Camaragibe       144466  ...             METROPOLITANA     MRT I\n",
              "3                       Goiana        58025  ...             METROPOLITANA     MRT I\n",
              "4                     Igarassu        93931  ...             METROPOLITANA     MRT I\n",
              "5              I. de Itamaracá        16993  ...             METROPOLITANA     MRT I\n",
              "6                      Ipojuca        59719  ...             METROPOLITANA     MRT I\n",
              "..                          ...         ...  ...                       ...       ...\n",
              "143                    Solidão         1831  ...  SERTÃO (MOXOTÓ E PAJEÚ)   MRT VIII\n",
              "144                     Tabira        19769  ...  SERTÃO (MOXOTÓ E PAJEÚ)   MRT VIII\n",
              "145                 Tuparetama         6351  ...  SERTÃO (MOXOTÓ E PAJEÚ)   MRT VIII\n",
              "146                    Triunfo         7944  ...                   TRIUNFO    MRT IX\n",
              "147  Santa Cruz da Baixa Verde         5277  ...                  TRIUNFO     MRT IX\n",
              "\n",
              "[146 rows x 9 columns]"
            ]
          },
          "metadata": {
            "tags": []
          },
          "execution_count": 7
        }
      ]
    },
    {
      "cell_type": "code",
      "metadata": {
        "id": "ypR4hkWanFzL",
        "colab": {
          "base_uri": "https://localhost:8080/",
          "height": 195
        },
        "outputId": "1cc7a647-714f-4bc9-8f03-fa50febc1c5d"
      },
      "source": [
        "Valores.head()"
      ],
      "execution_count": 8,
      "outputs": [
        {
          "output_type": "execute_result",
          "data": {
            "text/html": [
              "<div>\n",
              "<style scoped>\n",
              "    .dataframe tbody tr th:only-of-type {\n",
              "        vertical-align: middle;\n",
              "    }\n",
              "\n",
              "    .dataframe tbody tr th {\n",
              "        vertical-align: top;\n",
              "    }\n",
              "\n",
              "    .dataframe thead th {\n",
              "        text-align: right;\n",
              "    }\n",
              "</style>\n",
              "<table border=\"1\" class=\"dataframe\">\n",
              "  <thead>\n",
              "    <tr style=\"text-align: right;\">\n",
              "      <th></th>\n",
              "      <th>Municipio</th>\n",
              "      <th>Pop_Urbana</th>\n",
              "      <th>Pop_Rural</th>\n",
              "      <th>Área_km2</th>\n",
              "      <th>Area</th>\n",
              "      <th>Tax_Urbanização</th>\n",
              "      <th>Dens_dem_hab_km2</th>\n",
              "      <th>Regiao</th>\n",
              "      <th>MRT</th>\n",
              "    </tr>\n",
              "  </thead>\n",
              "  <tbody>\n",
              "    <tr>\n",
              "      <th>0</th>\n",
              "      <td>Abreu e Lima</td>\n",
              "      <td>86625</td>\n",
              "      <td>7804</td>\n",
              "      <td>94429</td>\n",
              "      <td>128,5</td>\n",
              "      <td>91,74</td>\n",
              "      <td>724,90</td>\n",
              "      <td>METROPOLITANA</td>\n",
              "      <td>MRT I</td>\n",
              "    </tr>\n",
              "    <tr>\n",
              "      <th>1</th>\n",
              "      <td>C. de S.  Agostinho</td>\n",
              "      <td>167783</td>\n",
              "      <td>17242</td>\n",
              "      <td>185025</td>\n",
              "      <td>446,5</td>\n",
              "      <td>90,68</td>\n",
              "      <td>414,32</td>\n",
              "      <td>METROPOLITANA</td>\n",
              "      <td>MRT I</td>\n",
              "    </tr>\n",
              "    <tr>\n",
              "      <th>2</th>\n",
              "      <td>Camaragibe</td>\n",
              "      <td>144466</td>\n",
              "      <td>-</td>\n",
              "      <td>144466</td>\n",
              "      <td>48,1</td>\n",
              "      <td>100,00</td>\n",
              "      <td>2.821,93</td>\n",
              "      <td>METROPOLITANA</td>\n",
              "      <td>MRT I</td>\n",
              "    </tr>\n",
              "    <tr>\n",
              "      <th>3</th>\n",
              "      <td>Goiana</td>\n",
              "      <td>58025</td>\n",
              "      <td>17619</td>\n",
              "      <td>75644</td>\n",
              "      <td>492,1</td>\n",
              "      <td>76,71</td>\n",
              "      <td>150,72</td>\n",
              "      <td>METROPOLITANA</td>\n",
              "      <td>MRT I</td>\n",
              "    </tr>\n",
              "    <tr>\n",
              "      <th>4</th>\n",
              "      <td>Igarassu</td>\n",
              "      <td>93931</td>\n",
              "      <td>8090</td>\n",
              "      <td>102021</td>\n",
              "      <td>302,9</td>\n",
              "      <td>92,07</td>\n",
              "      <td>333,88</td>\n",
              "      <td>METROPOLITANA</td>\n",
              "      <td>MRT I</td>\n",
              "    </tr>\n",
              "  </tbody>\n",
              "</table>\n",
              "</div>"
            ],
            "text/plain": [
              "              Municipio  Pop_Urbana  ...         Regiao    MRT\n",
              "0         Abreu e Lima        86625  ...  METROPOLITANA  MRT I\n",
              "1  C. de S.  Agostinho       167783  ...  METROPOLITANA  MRT I\n",
              "2           Camaragibe       144466  ...  METROPOLITANA  MRT I\n",
              "3               Goiana        58025  ...  METROPOLITANA  MRT I\n",
              "4             Igarassu        93931  ...  METROPOLITANA  MRT I\n",
              "\n",
              "[5 rows x 9 columns]"
            ]
          },
          "metadata": {
            "tags": []
          },
          "execution_count": 8
        }
      ]
    },
    {
      "cell_type": "markdown",
      "metadata": {
        "id": "fAc5NPO4sjiG"
      },
      "source": [
        "**RESUMO ESTÁTISTICO**"
      ]
    },
    {
      "cell_type": "code",
      "metadata": {
        "id": "0Ke5gpecnMif",
        "colab": {
          "base_uri": "https://localhost:8080/",
          "height": 284
        },
        "outputId": "aebc7955-ceb3-48e4-fd6d-131e80eb66f9"
      },
      "source": [
        "Valores.describe()"
      ],
      "execution_count": 9,
      "outputs": [
        {
          "output_type": "execute_result",
          "data": {
            "text/html": [
              "<div>\n",
              "<style scoped>\n",
              "    .dataframe tbody tr th:only-of-type {\n",
              "        vertical-align: middle;\n",
              "    }\n",
              "\n",
              "    .dataframe tbody tr th {\n",
              "        vertical-align: top;\n",
              "    }\n",
              "\n",
              "    .dataframe thead th {\n",
              "        text-align: right;\n",
              "    }\n",
              "</style>\n",
              "<table border=\"1\" class=\"dataframe\">\n",
              "  <thead>\n",
              "    <tr style=\"text-align: right;\">\n",
              "      <th></th>\n",
              "      <th>Pop_Urbana</th>\n",
              "      <th>Área_km2</th>\n",
              "    </tr>\n",
              "  </thead>\n",
              "  <tbody>\n",
              "    <tr>\n",
              "      <th>count</th>\n",
              "      <td>1.480000e+02</td>\n",
              "      <td>1.480000e+02</td>\n",
              "    </tr>\n",
              "    <tr>\n",
              "      <th>mean</th>\n",
              "      <td>4.277647e+04</td>\n",
              "      <td>5.133236e+04</td>\n",
              "    </tr>\n",
              "    <tr>\n",
              "      <th>std</th>\n",
              "      <td>1.422773e+05</td>\n",
              "      <td>1.423128e+05</td>\n",
              "    </tr>\n",
              "    <tr>\n",
              "      <th>min</th>\n",
              "      <td>1.704000e+03</td>\n",
              "      <td>4.496000e+03</td>\n",
              "    </tr>\n",
              "    <tr>\n",
              "      <th>25%</th>\n",
              "      <td>7.868000e+03</td>\n",
              "      <td>1.367775e+04</td>\n",
              "    </tr>\n",
              "    <tr>\n",
              "      <th>50%</th>\n",
              "      <td>1.374850e+04</td>\n",
              "      <td>2.194700e+04</td>\n",
              "    </tr>\n",
              "    <tr>\n",
              "      <th>75%</th>\n",
              "      <td>2.723700e+04</td>\n",
              "      <td>3.782150e+04</td>\n",
              "    </tr>\n",
              "    <tr>\n",
              "      <th>max</th>\n",
              "      <td>1.537704e+06</td>\n",
              "      <td>1.537704e+06</td>\n",
              "    </tr>\n",
              "  </tbody>\n",
              "</table>\n",
              "</div>"
            ],
            "text/plain": [
              "         Pop_Urbana      Área_km2\n",
              "count  1.480000e+02  1.480000e+02\n",
              "mean   4.277647e+04  5.133236e+04\n",
              "std    1.422773e+05  1.423128e+05\n",
              "min    1.704000e+03  4.496000e+03\n",
              "25%    7.868000e+03  1.367775e+04\n",
              "50%    1.374850e+04  2.194700e+04\n",
              "75%    2.723700e+04  3.782150e+04\n",
              "max    1.537704e+06  1.537704e+06"
            ]
          },
          "metadata": {
            "tags": []
          },
          "execution_count": 9
        }
      ]
    },
    {
      "cell_type": "code",
      "metadata": {
        "id": "U5finT9mnUVy",
        "colab": {
          "base_uri": "https://localhost:8080/",
          "height": 349
        },
        "outputId": "38e3a7d0-c51b-4026-951f-ca0192867732"
      },
      "source": [
        "Valores.hist()"
      ],
      "execution_count": 10,
      "outputs": [
        {
          "output_type": "execute_result",
          "data": {
            "text/plain": [
              "array([[<matplotlib.axes._subplots.AxesSubplot object at 0x7f1893bd78d0>,\n",
              "        <matplotlib.axes._subplots.AxesSubplot object at 0x7f1893b2bba8>]],\n",
              "      dtype=object)"
            ]
          },
          "metadata": {
            "tags": []
          },
          "execution_count": 10
        },
        {
          "output_type": "display_data",
          "data": {
            "image/png": "[encoded data removed]",
            "text/plain": [
              "<Figure size 432x288 with 2 Axes>"
            ]
          },
          "metadata": {
            "tags": [],
            "needs_background": "light"
          }
        }
      ]
    },
    {
      "cell_type": "code",
      "metadata": {
        "id": "nl6fD_HZna2j",
        "colab": {
          "base_uri": "https://localhost:8080/",
          "height": 402
        },
        "outputId": "d90217bd-a720-41e6-98a9-c9d3ecd75f11"
      },
      "source": [
        "Valores[:]"
      ],
      "execution_count": 11,
      "outputs": [
        {
          "output_type": "execute_result",
          "data": {
            "text/html": [
              "<div>\n",
              "<style scoped>\n",
              "    .dataframe tbody tr th:only-of-type {\n",
              "        vertical-align: middle;\n",
              "    }\n",
              "\n",
              "    .dataframe tbody tr th {\n",
              "        vertical-align: top;\n",
              "    }\n",
              "\n",
              "    .dataframe thead th {\n",
              "        text-align: right;\n",
              "    }\n",
              "</style>\n",
              "<table border=\"1\" class=\"dataframe\">\n",
              "  <thead>\n",
              "    <tr style=\"text-align: right;\">\n",
              "      <th></th>\n",
              "      <th>Municipio</th>\n",
              "      <th>Pop_Urbana</th>\n",
              "      <th>Pop_Rural</th>\n",
              "      <th>Área_km2</th>\n",
              "      <th>Area</th>\n",
              "      <th>Tax_Urbanização</th>\n",
              "      <th>Dens_dem_hab_km2</th>\n",
              "      <th>Regiao</th>\n",
              "      <th>MRT</th>\n",
              "    </tr>\n",
              "  </thead>\n",
              "  <tbody>\n",
              "    <tr>\n",
              "      <th>0</th>\n",
              "      <td>Abreu e Lima</td>\n",
              "      <td>86625</td>\n",
              "      <td>7804</td>\n",
              "      <td>94429</td>\n",
              "      <td>128,5</td>\n",
              "      <td>91,74</td>\n",
              "      <td>724,90</td>\n",
              "      <td>METROPOLITANA</td>\n",
              "      <td>MRT I</td>\n",
              "    </tr>\n",
              "    <tr>\n",
              "      <th>1</th>\n",
              "      <td>C. de S.  Agostinho</td>\n",
              "      <td>167783</td>\n",
              "      <td>17242</td>\n",
              "      <td>185025</td>\n",
              "      <td>446,5</td>\n",
              "      <td>90,68</td>\n",
              "      <td>414,32</td>\n",
              "      <td>METROPOLITANA</td>\n",
              "      <td>MRT I</td>\n",
              "    </tr>\n",
              "    <tr>\n",
              "      <th>2</th>\n",
              "      <td>Camaragibe</td>\n",
              "      <td>144466</td>\n",
              "      <td>-</td>\n",
              "      <td>144466</td>\n",
              "      <td>48,1</td>\n",
              "      <td>100,00</td>\n",
              "      <td>2.821,93</td>\n",
              "      <td>METROPOLITANA</td>\n",
              "      <td>MRT I</td>\n",
              "    </tr>\n",
              "    <tr>\n",
              "      <th>3</th>\n",
              "      <td>Goiana</td>\n",
              "      <td>58025</td>\n",
              "      <td>17619</td>\n",
              "      <td>75644</td>\n",
              "      <td>492,1</td>\n",
              "      <td>76,71</td>\n",
              "      <td>150,72</td>\n",
              "      <td>METROPOLITANA</td>\n",
              "      <td>MRT I</td>\n",
              "    </tr>\n",
              "    <tr>\n",
              "      <th>4</th>\n",
              "      <td>Igarassu</td>\n",
              "      <td>93931</td>\n",
              "      <td>8090</td>\n",
              "      <td>102021</td>\n",
              "      <td>302,9</td>\n",
              "      <td>92,07</td>\n",
              "      <td>333,88</td>\n",
              "      <td>METROPOLITANA</td>\n",
              "      <td>MRT I</td>\n",
              "    </tr>\n",
              "    <tr>\n",
              "      <th>...</th>\n",
              "      <td>...</td>\n",
              "      <td>...</td>\n",
              "      <td>...</td>\n",
              "      <td>...</td>\n",
              "      <td>...</td>\n",
              "      <td>...</td>\n",
              "      <td>...</td>\n",
              "      <td>...</td>\n",
              "      <td>...</td>\n",
              "    </tr>\n",
              "    <tr>\n",
              "      <th>143</th>\n",
              "      <td>Solidão</td>\n",
              "      <td>1831</td>\n",
              "      <td>3913</td>\n",
              "      <td>5744</td>\n",
              "      <td>138,399</td>\n",
              "      <td>31,88</td>\n",
              "      <td>41,5</td>\n",
              "      <td>SERTÃO (MOXOTÓ E PAJEÚ)</td>\n",
              "      <td>MRT VIII</td>\n",
              "    </tr>\n",
              "    <tr>\n",
              "      <th>144</th>\n",
              "      <td>Tabira</td>\n",
              "      <td>19769</td>\n",
              "      <td>6658</td>\n",
              "      <td>26427</td>\n",
              "      <td>388,005</td>\n",
              "      <td>74,81</td>\n",
              "      <td>68,11</td>\n",
              "      <td>SERTÃO (MOXOTÓ E PAJEÚ)</td>\n",
              "      <td>MRT VIII</td>\n",
              "    </tr>\n",
              "    <tr>\n",
              "      <th>145</th>\n",
              "      <td>Tuparetama</td>\n",
              "      <td>6351</td>\n",
              "      <td>1574</td>\n",
              "      <td>7925</td>\n",
              "      <td>178,57</td>\n",
              "      <td>80,14</td>\n",
              "      <td>44,38</td>\n",
              "      <td>SERTÃO (MOXOTÓ E PAJEÚ)</td>\n",
              "      <td>MRT VIII</td>\n",
              "    </tr>\n",
              "    <tr>\n",
              "      <th>146</th>\n",
              "      <td>Triunfo</td>\n",
              "      <td>7944</td>\n",
              "      <td>7062</td>\n",
              "      <td>15006</td>\n",
              "      <td>191,518</td>\n",
              "      <td>52,94</td>\n",
              "      <td>79,48</td>\n",
              "      <td>TRIUNFO</td>\n",
              "      <td>MRT IX</td>\n",
              "    </tr>\n",
              "    <tr>\n",
              "      <th>147</th>\n",
              "      <td>Santa Cruz da Baixa Verde</td>\n",
              "      <td>5277</td>\n",
              "      <td>6491</td>\n",
              "      <td>11768</td>\n",
              "      <td>114,932</td>\n",
              "      <td>44,84</td>\n",
              "      <td>108,77</td>\n",
              "      <td>TRIUNFO</td>\n",
              "      <td>MRT IX</td>\n",
              "    </tr>\n",
              "  </tbody>\n",
              "</table>\n",
              "<p>148 rows × 9 columns</p>\n",
              "</div>"
            ],
            "text/plain": [
              "                      Municipio  Pop_Urbana  ...                    Regiao       MRT\n",
              "0                 Abreu e Lima        86625  ...             METROPOLITANA     MRT I\n",
              "1          C. de S.  Agostinho       167783  ...             METROPOLITANA     MRT I\n",
              "2                   Camaragibe       144466  ...             METROPOLITANA     MRT I\n",
              "3                       Goiana        58025  ...             METROPOLITANA     MRT I\n",
              "4                     Igarassu        93931  ...             METROPOLITANA     MRT I\n",
              "..                          ...         ...  ...                       ...       ...\n",
              "143                    Solidão         1831  ...  SERTÃO (MOXOTÓ E PAJEÚ)   MRT VIII\n",
              "144                     Tabira        19769  ...  SERTÃO (MOXOTÓ E PAJEÚ)   MRT VIII\n",
              "145                 Tuparetama         6351  ...  SERTÃO (MOXOTÓ E PAJEÚ)   MRT VIII\n",
              "146                    Triunfo         7944  ...                   TRIUNFO    MRT IX\n",
              "147  Santa Cruz da Baixa Verde         5277  ...                  TRIUNFO     MRT IX\n",
              "\n",
              "[148 rows x 9 columns]"
            ]
          },
          "metadata": {
            "tags": []
          },
          "execution_count": 11
        }
      ]
    },
    {
      "cell_type": "code",
      "metadata": {
        "id": "MjzQ-jpTnjhl",
        "colab": {
          "base_uri": "https://localhost:8080/",
          "height": 77
        },
        "outputId": "569f73e2-85e7-44d3-9dea-a1ffe5addc5a"
      },
      "source": [
        "Valores.iloc[[0]]"
      ],
      "execution_count": 13,
      "outputs": [
        {
          "output_type": "execute_result",
          "data": {
            "text/html": [
              "<div>\n",
              "<style scoped>\n",
              "    .dataframe tbody tr th:only-of-type {\n",
              "        vertical-align: middle;\n",
              "    }\n",
              "\n",
              "    .dataframe tbody tr th {\n",
              "        vertical-align: top;\n",
              "    }\n",
              "\n",
              "    .dataframe thead th {\n",
              "        text-align: right;\n",
              "    }\n",
              "</style>\n",
              "<table border=\"1\" class=\"dataframe\">\n",
              "  <thead>\n",
              "    <tr style=\"text-align: right;\">\n",
              "      <th></th>\n",
              "      <th>Municipio</th>\n",
              "      <th>Pop_Urbana</th>\n",
              "      <th>Pop_Rural</th>\n",
              "      <th>Área_km2</th>\n",
              "      <th>Area</th>\n",
              "      <th>Tax_Urbanização</th>\n",
              "      <th>Dens_dem_hab_km2</th>\n",
              "      <th>Regiao</th>\n",
              "      <th>MRT</th>\n",
              "    </tr>\n",
              "  </thead>\n",
              "  <tbody>\n",
              "    <tr>\n",
              "      <th>0</th>\n",
              "      <td>Abreu e Lima</td>\n",
              "      <td>86625</td>\n",
              "      <td>7804</td>\n",
              "      <td>94429</td>\n",
              "      <td>128,5</td>\n",
              "      <td>91,74</td>\n",
              "      <td>724,90</td>\n",
              "      <td>METROPOLITANA</td>\n",
              "      <td>MRT I</td>\n",
              "    </tr>\n",
              "  </tbody>\n",
              "</table>\n",
              "</div>"
            ],
            "text/plain": [
              "       Municipio  Pop_Urbana Pop_Rural  ...  Dens_dem_hab_km2         Regiao    MRT\n",
              "0  Abreu e Lima        86625      7804  ...            724,90  METROPOLITANA  MRT I\n",
              "\n",
              "[1 rows x 9 columns]"
            ]
          },
          "metadata": {
            "tags": []
          },
          "execution_count": 13
        }
      ]
    },
    {
      "cell_type": "code",
      "metadata": {
        "id": "GOg6PI5vrLHG",
        "colab": {
          "base_uri": "https://localhost:8080/",
          "height": 136
        },
        "outputId": "4b6826f4-3218-4584-a301-78c13facf726"
      },
      "source": [
        "Valores.iloc[:3]"
      ],
      "execution_count": 14,
      "outputs": [
        {
          "output_type": "execute_result",
          "data": {
            "text/html": [
              "<div>\n",
              "<style scoped>\n",
              "    .dataframe tbody tr th:only-of-type {\n",
              "        vertical-align: middle;\n",
              "    }\n",
              "\n",
              "    .dataframe tbody tr th {\n",
              "        vertical-align: top;\n",
              "    }\n",
              "\n",
              "    .dataframe thead th {\n",
              "        text-align: right;\n",
              "    }\n",
              "</style>\n",
              "<table border=\"1\" class=\"dataframe\">\n",
              "  <thead>\n",
              "    <tr style=\"text-align: right;\">\n",
              "      <th></th>\n",
              "      <th>Municipio</th>\n",
              "      <th>Pop_Urbana</th>\n",
              "      <th>Pop_Rural</th>\n",
              "      <th>Área_km2</th>\n",
              "      <th>Area</th>\n",
              "      <th>Tax_Urbanização</th>\n",
              "      <th>Dens_dem_hab_km2</th>\n",
              "      <th>Regiao</th>\n",
              "      <th>MRT</th>\n",
              "    </tr>\n",
              "  </thead>\n",
              "  <tbody>\n",
              "    <tr>\n",
              "      <th>0</th>\n",
              "      <td>Abreu e Lima</td>\n",
              "      <td>86625</td>\n",
              "      <td>7804</td>\n",
              "      <td>94429</td>\n",
              "      <td>128,5</td>\n",
              "      <td>91,74</td>\n",
              "      <td>724,90</td>\n",
              "      <td>METROPOLITANA</td>\n",
              "      <td>MRT I</td>\n",
              "    </tr>\n",
              "    <tr>\n",
              "      <th>1</th>\n",
              "      <td>C. de S.  Agostinho</td>\n",
              "      <td>167783</td>\n",
              "      <td>17242</td>\n",
              "      <td>185025</td>\n",
              "      <td>446,5</td>\n",
              "      <td>90,68</td>\n",
              "      <td>414,32</td>\n",
              "      <td>METROPOLITANA</td>\n",
              "      <td>MRT I</td>\n",
              "    </tr>\n",
              "    <tr>\n",
              "      <th>2</th>\n",
              "      <td>Camaragibe</td>\n",
              "      <td>144466</td>\n",
              "      <td>-</td>\n",
              "      <td>144466</td>\n",
              "      <td>48,1</td>\n",
              "      <td>100,00</td>\n",
              "      <td>2.821,93</td>\n",
              "      <td>METROPOLITANA</td>\n",
              "      <td>MRT I</td>\n",
              "    </tr>\n",
              "  </tbody>\n",
              "</table>\n",
              "</div>"
            ],
            "text/plain": [
              "              Municipio  Pop_Urbana  ...         Regiao    MRT\n",
              "0         Abreu e Lima        86625  ...  METROPOLITANA  MRT I\n",
              "1  C. de S.  Agostinho       167783  ...  METROPOLITANA  MRT I\n",
              "2           Camaragibe       144466  ...  METROPOLITANA  MRT I\n",
              "\n",
              "[3 rows x 9 columns]"
            ]
          },
          "metadata": {
            "tags": []
          },
          "execution_count": 14
        }
      ]
    },
    {
      "cell_type": "code",
      "metadata": {
        "id": "g4DbtxNZrRDV",
        "colab": {
          "base_uri": "https://localhost:8080/",
          "height": 106
        },
        "outputId": "eca408b0-e4b4-4cdb-bb0b-dd6ed2f5d297"
      },
      "source": [
        "Valores.iloc[1:3]"
      ],
      "execution_count": 15,
      "outputs": [
        {
          "output_type": "execute_result",
          "data": {
            "text/html": [
              "<div>\n",
              "<style scoped>\n",
              "    .dataframe tbody tr th:only-of-type {\n",
              "        vertical-align: middle;\n",
              "    }\n",
              "\n",
              "    .dataframe tbody tr th {\n",
              "        vertical-align: top;\n",
              "    }\n",
              "\n",
              "    .dataframe thead th {\n",
              "        text-align: right;\n",
              "    }\n",
              "</style>\n",
              "<table border=\"1\" class=\"dataframe\">\n",
              "  <thead>\n",
              "    <tr style=\"text-align: right;\">\n",
              "      <th></th>\n",
              "      <th>Municipio</th>\n",
              "      <th>Pop_Urbana</th>\n",
              "      <th>Pop_Rural</th>\n",
              "      <th>Área_km2</th>\n",
              "      <th>Area</th>\n",
              "      <th>Tax_Urbanização</th>\n",
              "      <th>Dens_dem_hab_km2</th>\n",
              "      <th>Regiao</th>\n",
              "      <th>MRT</th>\n",
              "    </tr>\n",
              "  </thead>\n",
              "  <tbody>\n",
              "    <tr>\n",
              "      <th>1</th>\n",
              "      <td>C. de S.  Agostinho</td>\n",
              "      <td>167783</td>\n",
              "      <td>17242</td>\n",
              "      <td>185025</td>\n",
              "      <td>446,5</td>\n",
              "      <td>90,68</td>\n",
              "      <td>414,32</td>\n",
              "      <td>METROPOLITANA</td>\n",
              "      <td>MRT I</td>\n",
              "    </tr>\n",
              "    <tr>\n",
              "      <th>2</th>\n",
              "      <td>Camaragibe</td>\n",
              "      <td>144466</td>\n",
              "      <td>-</td>\n",
              "      <td>144466</td>\n",
              "      <td>48,1</td>\n",
              "      <td>100,00</td>\n",
              "      <td>2.821,93</td>\n",
              "      <td>METROPOLITANA</td>\n",
              "      <td>MRT I</td>\n",
              "    </tr>\n",
              "  </tbody>\n",
              "</table>\n",
              "</div>"
            ],
            "text/plain": [
              "              Municipio  Pop_Urbana  ...         Regiao    MRT\n",
              "1  C. de S.  Agostinho       167783  ...  METROPOLITANA  MRT I\n",
              "2           Camaragibe       144466  ...  METROPOLITANA  MRT I\n",
              "\n",
              "[2 rows x 9 columns]"
            ]
          },
          "metadata": {
            "tags": []
          },
          "execution_count": 15
        }
      ]
    },
    {
      "cell_type": "code",
      "metadata": {
        "id": "7FA1E78Qrgzl",
        "colab": {
          "base_uri": "https://localhost:8080/",
          "height": 35
        },
        "outputId": "de53a587-d404-4d16-9d82-506e18c997b8"
      },
      "source": [
        "Valores.iloc[0,0]"
      ],
      "execution_count": 17,
      "outputs": [
        {
          "output_type": "execute_result",
          "data": {
            "application/vnd.google.colaboratory.intrinsic+json": {
              "type": "string"
            },
            "text/plain": [
              "'Abreu e Lima '"
            ]
          },
          "metadata": {
            "tags": []
          },
          "execution_count": 17
        }
      ]
    },
    {
      "cell_type": "code",
      "metadata": {
        "id": "0v4YMgpZruQO",
        "colab": {
          "base_uri": "https://localhost:8080/"
        },
        "outputId": "4875df2c-8471-4b6b-d1aa-c9a928259bab"
      },
      "source": [
        "Valores.columns"
      ],
      "execution_count": 18,
      "outputs": [
        {
          "output_type": "execute_result",
          "data": {
            "text/plain": [
              "Index(['Municipio', 'Pop_Urbana', 'Pop_Rural', 'Área_km2', 'Area',\n",
              "       'Tax_Urbanização', 'Dens_dem_hab_km2', 'Regiao', 'MRT'],\n",
              "      dtype='object')"
            ]
          },
          "metadata": {
            "tags": []
          },
          "execution_count": 18
        }
      ]
    },
    {
      "cell_type": "code",
      "metadata": {
        "id": "CYoj_CknsMHU",
        "colab": {
          "base_uri": "https://localhost:8080/"
        },
        "outputId": "e8e74279-1d7f-4ad9-9268-48b6b05b10f6"
      },
      "source": [
        "Valores['Municipio']"
      ],
      "execution_count": 19,
      "outputs": [
        {
          "output_type": "execute_result",
          "data": {
            "text/plain": [
              "0                   Abreu e Lima \n",
              "1            C. de S.  Agostinho \n",
              "2                     Camaragibe \n",
              "3                         Goiana \n",
              "4                       Igarassu \n",
              "                  ...            \n",
              "143                      Solidão \n",
              "144                       Tabira \n",
              "145                   Tuparetama \n",
              "146                      Triunfo \n",
              "147    Santa Cruz da Baixa Verde \n",
              "Name: Municipio, Length: 148, dtype: object"
            ]
          },
          "metadata": {
            "tags": []
          },
          "execution_count": 19
        }
      ]
    },
    {
      "cell_type": "code",
      "metadata": {
        "id": "hO5HwMIlscEP",
        "colab": {
          "base_uri": "https://localhost:8080/"
        },
        "outputId": "1b07c7e5-a0d8-4ced-ffb3-bbd27d8cd543"
      },
      "source": [
        "Valores.size"
      ],
      "execution_count": 21,
      "outputs": [
        {
          "output_type": "execute_result",
          "data": {
            "text/plain": [
              "1332"
            ]
          },
          "metadata": {
            "tags": []
          },
          "execution_count": 21
        }
      ]
    },
    {
      "cell_type": "code",
      "metadata": {
        "id": "n7S_Hqbus2JO",
        "colab": {
          "base_uri": "https://localhost:8080/"
        },
        "outputId": "0be00559-ae28-4e11-de5b-7c7c0b018bef"
      },
      "source": [
        "Valores.ndim"
      ],
      "execution_count": 22,
      "outputs": [
        {
          "output_type": "execute_result",
          "data": {
            "text/plain": [
              "2"
            ]
          },
          "metadata": {
            "tags": []
          },
          "execution_count": 22
        }
      ]
    },
    {
      "cell_type": "markdown",
      "metadata": {
        "id": "8VRK9kjuubSV"
      },
      "source": [
        "# Localizar na tabela."
      ]
    },
    {
      "cell_type": "code",
      "metadata": {
        "id": "1nwx1L_PtVMV",
        "colab": {
          "base_uri": "https://localhost:8080/",
          "height": 77
        },
        "outputId": "fc0fb0f3-18e9-41de-eb49-4c05aa9e4fc1"
      },
      "source": [
        "ibge.loc[ibge['nome']=='Abaeté']"
      ],
      "execution_count": null,
      "outputs": [
        {
          "output_type": "execute_result",
          "data": {
            "text/html": [
              "<div>\n",
              "<style scoped>\n",
              "    .dataframe tbody tr th:only-of-type {\n",
              "        vertical-align: middle;\n",
              "    }\n",
              "\n",
              "    .dataframe tbody tr th {\n",
              "        vertical-align: top;\n",
              "    }\n",
              "\n",
              "    .dataframe thead th {\n",
              "        text-align: right;\n",
              "    }\n",
              "</style>\n",
              "<table border=\"1\" class=\"dataframe\">\n",
              "  <thead>\n",
              "    <tr style=\"text-align: right;\">\n",
              "      <th></th>\n",
              "      <th>codigo_ibge</th>\n",
              "      <th>nome</th>\n",
              "      <th>latitude</th>\n",
              "      <th>longitude</th>\n",
              "      <th>capital</th>\n",
              "      <th>codigo_uf</th>\n",
              "    </tr>\n",
              "  </thead>\n",
              "  <tbody>\n",
              "    <tr>\n",
              "      <th>3</th>\n",
              "      <td>3100203</td>\n",
              "      <td>Abaeté</td>\n",
              "      <td>-19.1551</td>\n",
              "      <td>-45.4444</td>\n",
              "      <td>0</td>\n",
              "      <td>31</td>\n",
              "    </tr>\n",
              "  </tbody>\n",
              "</table>\n",
              "</div>"
            ],
            "text/plain": [
              "   codigo_ibge    nome  latitude  longitude  capital  codigo_uf\n",
              "3      3100203  Abaeté  -19.1551   -45.4444        0         31"
            ]
          },
          "metadata": {
            "tags": []
          },
          "execution_count": 56
        }
      ]
    },
    {
      "cell_type": "code",
      "metadata": {
        "id": "s92CKcIloS23",
        "colab": {
          "base_uri": "https://localhost:8080/",
          "height": 77
        },
        "outputId": "d0bf785c-a4a7-4879-94ae-f8cbed8454da"
      },
      "source": [
        "ibge.iloc[[1]]"
      ],
      "execution_count": null,
      "outputs": [
        {
          "output_type": "execute_result",
          "data": {
            "text/html": [
              "<div>\n",
              "<style scoped>\n",
              "    .dataframe tbody tr th:only-of-type {\n",
              "        vertical-align: middle;\n",
              "    }\n",
              "\n",
              "    .dataframe tbody tr th {\n",
              "        vertical-align: top;\n",
              "    }\n",
              "\n",
              "    .dataframe thead th {\n",
              "        text-align: right;\n",
              "    }\n",
              "</style>\n",
              "<table border=\"1\" class=\"dataframe\">\n",
              "  <thead>\n",
              "    <tr style=\"text-align: right;\">\n",
              "      <th></th>\n",
              "      <th>codigo_ibge</th>\n",
              "      <th>nome</th>\n",
              "      <th>latitude</th>\n",
              "      <th>longitude</th>\n",
              "      <th>capital</th>\n",
              "      <th>codigo_uf</th>\n",
              "    </tr>\n",
              "  </thead>\n",
              "  <tbody>\n",
              "    <tr>\n",
              "      <th>1</th>\n",
              "      <td>3100104</td>\n",
              "      <td>Abadia dos Dourados</td>\n",
              "      <td>-18.4831</td>\n",
              "      <td>-47.3916</td>\n",
              "      <td>0</td>\n",
              "      <td>31</td>\n",
              "    </tr>\n",
              "  </tbody>\n",
              "</table>\n",
              "</div>"
            ],
            "text/plain": [
              "   codigo_ibge                 nome  latitude  longitude  capital  codigo_uf\n",
              "1      3100104  Abadia dos Dourados  -18.4831   -47.3916        0         31"
            ]
          },
          "metadata": {
            "tags": []
          },
          "execution_count": 27
        }
      ]
    },
    {
      "cell_type": "code",
      "metadata": {
        "id": "esrmjSPsorL3",
        "colab": {
          "base_uri": "https://localhost:8080/",
          "height": 34
        },
        "outputId": "a65222c0-9fcd-4d02-fc16-e768cd38fc81"
      },
      "source": [
        "type(ibge)"
      ],
      "execution_count": null,
      "outputs": [
        {
          "output_type": "execute_result",
          "data": {
            "text/plain": [
              "pandas.core.frame.DataFrame"
            ]
          },
          "metadata": {
            "tags": []
          },
          "execution_count": 28
        }
      ]
    },
    {
      "cell_type": "code",
      "metadata": {
        "id": "WYPfexIspeQf",
        "colab": {
          "base_uri": "https://localhost:8080/",
          "height": 134
        },
        "outputId": "2b4a2cda-7ec5-46ba-c6b6-4ffc0272038a"
      },
      "source": [
        "ibge.iloc[2]"
      ],
      "execution_count": null,
      "outputs": [
        {
          "output_type": "execute_result",
          "data": {
            "text/plain": [
              "codigo_ibge      5200100\n",
              "nome           Abadiânia\n",
              "latitude         -16.197\n",
              "longitude       -48.7057\n",
              "capital                0\n",
              "codigo_uf             52\n",
              "Name: 2, dtype: object"
            ]
          },
          "metadata": {
            "tags": []
          },
          "execution_count": 30
        }
      ]
    },
    {
      "cell_type": "code",
      "metadata": {
        "id": "XuutFBjFprcM",
        "colab": {
          "base_uri": "https://localhost:8080/",
          "height": 134
        },
        "outputId": "c0e50841-f6b5-4b42-c428-4863b93eb6e0"
      },
      "source": [
        "ibge.dtypes"
      ],
      "execution_count": null,
      "outputs": [
        {
          "output_type": "execute_result",
          "data": {
            "text/plain": [
              "codigo_ibge      int64\n",
              "nome            object\n",
              "latitude       float64\n",
              "longitude      float64\n",
              "capital          int64\n",
              "codigo_uf        int64\n",
              "dtype: object"
            ]
          },
          "metadata": {
            "tags": []
          },
          "execution_count": 35
        }
      ]
    },
    {
      "cell_type": "code",
      "metadata": {
        "id": "0cJO8NfXp8qF",
        "colab": {
          "base_uri": "https://localhost:8080/",
          "height": 252
        },
        "outputId": "ee057484-e2f6-453d-c005-9c8779d983f7"
      },
      "source": [
        "ibge.memory_usage"
      ],
      "execution_count": null,
      "outputs": [
        {
          "output_type": "execute_result",
          "data": {
            "text/plain": [
              "<bound method DataFrame.memory_usage of       codigo_ibge                 nome  latitude  longitude  capital  codigo_uf\n",
              "0         5200050      Abadia de Goiás -16.75730   -49.4412        0         52\n",
              "1         3100104  Abadia dos Dourados -18.48310   -47.3916        0         31\n",
              "2         5200100            Abadiânia -16.19700   -48.7057        0         52\n",
              "3         3100203               Abaeté -19.15510   -45.4444        0         31\n",
              "4         1500107           Abaetetuba  -1.72183   -48.8788        0         15\n",
              "...           ...                  ...       ...        ...      ...        ...\n",
              "5565      2933604          Xique-Xique -10.82300   -42.7245        0         29\n",
              "5566      2517407               Zabelê  -8.07901   -37.1057        0         25\n",
              "5567      3557154             Zacarias -21.05060   -50.0552        0         35\n",
              "5568      2114007              Zé Doca  -3.27014   -45.6553        0         21\n",
              "5569      4219853               Zortéa -27.45210   -51.5520        0         42\n",
              "\n",
              "[5570 rows x 6 columns]>"
            ]
          },
          "metadata": {
            "tags": []
          },
          "execution_count": 36
        }
      ]
    },
    {
      "cell_type": "code",
      "metadata": {
        "id": "vvgX3JoXqnrL"
      },
      "source": [
        ""
      ],
      "execution_count": null,
      "outputs": []
    }
  ]
}